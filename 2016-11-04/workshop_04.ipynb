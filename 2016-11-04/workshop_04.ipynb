{
 "cells": [
  {
   "cell_type": "markdown",
   "metadata": {},
   "source": [
    "# Workshop 04"
   ]
  },
  {
   "cell_type": "markdown",
   "metadata": {},
   "source": [
    "<img src=\"http://www.workspacetraining.com.au/timberplustoolbox/toolbox13_05/unit8_laying_up_roof_trusses/images/hip_roof_top.gif\"/>"
   ]
  },
  {
   "cell_type": "markdown",
   "metadata": {},
   "source": [
    "## Code"
   ]
  },
  {
   "cell_type": "markdown",
   "metadata": {},
   "source": [
    "### Main Function"
   ]
  },
  {
   "cell_type": "markdown",
   "metadata": {},
   "source": [
    "<li> Input: hpc model of roof\n",
    "<li> Extract values of vertex and cells\n",
    "<li> Build structure made by previous extracted cells"
   ]
  },
  {
   "cell_type": "code",
   "execution_count": null,
   "metadata": {
    "collapsed": true
   },
   "outputs": [],
   "source": [
    "from pyplasm import*\n",
    "\n",
    "\n",
    "#start function ------------------------------------------------------------\n",
    "def ggpl_roof_builder(pol):\n",
    "\t\"\"\"\n",
    "\tMain function. Taking in input an hpc model of the solid model of roof, then creating\n",
    "\tthe convex cell and in output there is a new hpc model with cells and beam's structure of roof\n",
    "\t@param pol: initial roof solid making by MKPOL function\n",
    "\t\"\"\"\n",
    "\t\n",
    "\tlistCell = UKPOL(SKEL_2(pol))\n",
    "\n",
    "\tverts = listCell[0]\n",
    "\tverts = roundValues(verts)\n",
    "\tcells = listCell[1]\n",
    "\tparam = listCell[2]\n",
    "\n",
    "\t#if cell are not complanarity, return none object\n",
    "\tif(not complanarity(verts, cells)):\n",
    "\t\treturn 0\n",
    "\t\n",
    "\t#list of hpc object cell\n",
    "\tcells3d = []\n",
    "\n",
    "\t#list of cells made by list of verts. Example: [[v1,..,vn],[v1,..,vn],...]\n",
    "\tvertsAndCellsList = []\n",
    "\n",
    "\t#building lists\n",
    "\tfor i in cells:\n",
    "\t\tvertsTemp = []\t#temp list of vertex group by cell\n",
    "\t\tnumVerts = len(i)\t#number of verts inside a cell\n",
    "\t\ttemp =[]\t#temp list of index of the vertex that belongs to cell.\n",
    "\t\t\n",
    "\t\tfor count in range(0,numVerts):\n",
    "\t\t\tvertsTemp.append(verts[count])\n",
    "\t\t\ttemp.append(count+1)\n",
    "\n",
    "\t\t#if cell is no the plane cell ad the base of the roof, create it with mkpol.\n",
    "\t\tif(not baseCell(vertsTemp)):\n",
    "\t\t\tcells3d.append(OFFSET([.1,.1,.1])(MKPOL([vertsTemp,[temp],param])))\n",
    "\n",
    "\n",
    "\t\tvertsAndCellsList.append(vertsTemp)\n",
    "\n",
    "\t\t#update verts list, inside iteration\n",
    "\t\tverts = verts[numVerts:]\n",
    "\n",
    "\t#create dictionary\n",
    "\tdictionary = create_dict(vertsAndCellsList)\n",
    "\n",
    "\t#make hpc object with all cell \n",
    "\tcells3d = T(3)(.1)(COLOR(Color4f([0/255., 204/255., 0/255.,1]))((STRUCT(cells3d))))\n",
    "\n",
    "\t#create beam structure of roof\n",
    "\troofStructure = COLOR(Color4f([132/255., 54/255., 9/255.,1]))(OFFSET([.1,.1,.1])(SKEL_1(pol)))\n",
    "\n",
    "\n",
    "\treturn STRUCT([cells3d, roofStructure])\n",
    "#end function ------------------------------------------------------------"
   ]
  },
  {
   "cell_type": "markdown",
   "metadata": {},
   "source": [
    "### Supported function"
   ]
  },
  {
   "cell_type": "code",
   "execution_count": null,
   "metadata": {
    "collapsed": true
   },
   "outputs": [],
   "source": [
    "import numpy\n",
    "\n",
    "\n",
    "#start function ------------------------------------------------------------\n",
    "def create_dict(values):\n",
    "\t\"\"\"\n",
    "\tFunction that creates a dictionary using all rounded skel's vertex\n",
    "\t@param values: input list of vertex\n",
    "\t\"\"\"\n",
    "\n",
    "\tdictionary = {}\n",
    "\tfor i in range(len(values)-1):\n",
    "\t\tfor j in values[i]:\n",
    "\t\t\tkey=\",\".join(str(x) for x in j)\n",
    "\t\t\tif(not dictionary.has_key(key)):\n",
    "\t\t\t\tdictionary[key] = [i]\n",
    "\t\t\telse:\n",
    "\t\t\t\tdictionary[key].append(i)\n",
    "\treturn dictionary\n",
    "#end function ------------------------------------------------------------\n",
    "\n",
    "\n",
    "\n",
    "\n",
    "#start function ------------------------------------------------------------\n",
    "def complanarity(verts, cells):\n",
    "\t\"\"\"\n",
    "\tFor this method, values need to be rounded.\n",
    "\t@param verts: list of verts\n",
    "\t@param cells: list of cells\n",
    "\t\"\"\"\n",
    "\tfor c in cells:\n",
    "\t\t\n",
    "\t\tif(len(c) > 3): \n",
    "\t\t\tmatrix = []\t\t\t#Building matrix with verts for every cell\n",
    "\t\t\tlastValue = c[-1]\n",
    "\t\t\tfor label in c:\n",
    "\t\t\t\tvalue = verts[int(label)-1]\n",
    "\t\t\t\trow = []\n",
    "\t\t\t\tfor i in range(len(value)):\n",
    "\t\t\t\t\trow.append(value[i]-verts[lastValue-1][i])\n",
    "\t\t\t\tmatrix.append(row)\n",
    "\t\t\t\n",
    "\t\t\tA = numpy.matrix(matrix)\n",
    "\t\t\tdim = numpy.linalg.matrix_rank(A)\t\t#rank of matrix\n",
    "\t\t\t\n",
    "\t\t\tif(dim > 2):\t\t#complanarity is satisfied if the matrix has rank 2 or less\n",
    "\t\t\t\treturn False\n",
    "\treturn True\n",
    "#end function ------------------------------------------------------------\n",
    "\n",
    "\n",
    "#start function ------------------------------------------------------------\n",
    "def roundValues(values):\n",
    "\t\"\"\"\n",
    "\tRounding values function\n",
    "\t@param values: list of values\n",
    "\t\"\"\"\n",
    "\n",
    "\tvalues = [[numpy.round(float(i), 2) for i in nested] for nested in values]\n",
    "\tvalues = [[abs(i) for i in nested] for nested in values]\n",
    "\n",
    "\treturn values\n",
    "#end function ------------------------------------------------------------\n",
    "\n",
    "\n",
    "#start function ------------------------------------------------------------\t\n",
    "def baseCell(verts):\n",
    "\t\"\"\"\n",
    "\tCheching if all verts of a cell take parts of the base cell.\n",
    "\t@param verts: list of verts\n",
    "\t\"\"\"\n",
    "\tfor i in verts:\n",
    "\t\tif(i[2]!=0):\n",
    "\t\t\treturn False\n",
    "\treturn True\n",
    "#end function ------------------------------------------------------------\n"
   ]
  },
  {
   "cell_type": "markdown",
   "metadata": {},
   "source": [
    "## Examples"
   ]
  },
  {
   "cell_type": "markdown",
   "metadata": {},
   "source": [
    "##  Hipped roof\n",
    "<li> Input values:\n",
    "\n",
    "     `verts = [[0,0,0],[5,0,0],[5,3,0],[4,1.5,2],[1,1.5,2],[0,3,0]]`\n",
    " \n",
    "     `cells = [[1,2,4,5],[2,4,3],[1,5,6],[3,4,5,6],[1,2,3,6]]`"
   ]
  },
  {
   "cell_type": "markdown",
   "metadata": {
    "collapsed": true
   },
   "source": [
    "<img src=\"images/img01.jpeg\" width=\"400px\"/>\n",
    "<img src=\"images/img02.jpeg\" width=\"400px\"/>"
   ]
  },
  {
   "cell_type": "markdown",
   "metadata": {},
   "source": [
    "## Hip and valley roof\n",
    "<li> Input values:\n",
    "\n",
    "    `verts = [[0,0,0],[6,0,0],[6,12,0],[3,12,0],[3,3,0],[0,3,0],[1.5,1.5,3],[4.5,1.5,3],[4.5,10.5,3]]`\n",
    "\n",
    "    `cells = [[1,7,6],[2,8,7,1],[2,3,9,8],[4,3,9],[4,9,8,5],[5,8,7,6],[6,5,2,1],[5,4,3,2]]`\n"
   ]
  },
  {
   "cell_type": "markdown",
   "metadata": {},
   "source": [
    "<img src=\"images/img03.jpeg\" width=\"400px\"/>\n",
    "<img src=\"images/img04.jpeg\" width=\"400px\"/>"
   ]
  },
  {
   "cell_type": "markdown",
   "metadata": {},
   "source": [
    "## Gable roof\n",
    "<li> Input values:\n",
    "\n",
    "    `verts=[[0,0,0],[0,5,0],[8,5,0],[8,0,0],[4,0,3],[4,5,3]]`\n",
    "    \n",
    "    `cells=[[3,4,5,6],[1,2,6,5],[1,4,3,2]]`"
   ]
  },
  {
   "cell_type": "markdown",
   "metadata": {},
   "source": [
    "<img src=\"images/img05.jpeg\" width=\"400px\"/>"
   ]
  }
 ],
 "metadata": {
  "anaconda-cloud": {},
  "kernelspec": {
   "display_name": "Python [default]",
   "language": "python",
   "name": "python2"
  },
  "language_info": {
   "codemirror_mode": {
    "name": "ipython",
    "version": 2
   },
   "file_extension": ".py",
   "mimetype": "text/x-python",
   "name": "python",
   "nbconvert_exporter": "python",
   "pygments_lexer": "ipython2",
   "version": "2.7.12"
  }
 },
 "nbformat": 4,
 "nbformat_minor": 1
}
