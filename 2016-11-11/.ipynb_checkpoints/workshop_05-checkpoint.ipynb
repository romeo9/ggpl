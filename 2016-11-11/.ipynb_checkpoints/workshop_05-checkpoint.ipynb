{
 "cells": [
  {
   "cell_type": "markdown",
   "metadata": {},
   "source": [
    "# Workshop 05"
   ]
  },
  {
   "cell_type": "markdown",
   "metadata": {},
   "source": [
    "<table>\n",
    "<td><img src=\"images/desk_model.jpg\" width=\"300\" /></td>\n",
    "<td><img src=\"http://www.mobiligied.it/wp-content/uploads/2011/10/A32-Cattedra.jpg\" width=\"300\" /></td>\n",
    "\n",
    "<td><img src=\"http://www.holity.com/media/catalog/product/cache/1/image/9df78eab33525d08d6e5fb8d27136e95/m/-/m-armadio-portascope-a-2-ante-in-legno-h8233.jpg\" width=\"300\" /></td>\n",
    "<td><img src=\"http://www.scuolarredo.net/images/5030.png\" width=\"300\" /></td>\n",
    "</table>"
   ]
  },
  {
   "cell_type": "markdown",
   "metadata": {},
   "source": [
    "## Details"
   ]
  },
  {
   "cell_type": "markdown",
   "metadata": {},
   "source": [
    "Creating fornitures for a classroom. Each function creates a single element of a classroom, like chair, desk, professor's desk or closet."
   ]
  },
  {
   "cell_type": "markdown",
   "metadata": {},
   "source": [
    "## Desk"
   ]
  },
  {
   "cell_type": "code",
   "execution_count": null,
   "metadata": {
    "collapsed": true
   },
   "outputs": [],
   "source": [
    "def create_desk(dx,dy,dz):\n",
    "\"\"\"\n",
    "Function that create a desk for a classroom\n",
    "@param dx: dimension x of the desk\n",
    "@param dy: dimension y of the desk\n",
    "@param dz: dimension z of the desk\n",
    "\n",
    "\"\"\"\n",
    "\n",
    "\tr = dy/20. #cylinder radius\n",
    "\n",
    "\tdesk = STRUCT([T(3)(dz),CUBOID([dx,dy,.1])])\n",
    "\tleg = STRUCT([T([1,2])([r*2,r*2]),CYLINDER([r,dz])(30)])\n",
    "\txlegs = STRUCT([leg, T(1)(dx-(r*4)),leg])\n",
    "\tlegs = STRUCT([xlegs, T(2)(dy-(r*4)), xlegs])\n",
    "\n",
    "\tsupportDesk = STRUCT([T([1,2,3])([r*1.5,r*1.5,dz-(r*2)]),CUBOID([dx-(r*3),dy-(r*3),r*2])])\n",
    "\tdiffSupport = STRUCT([T([1,2,3])([r*2.5,r*2.5,dz-(r*2)]),CUBOID([dx-(r*5),dy-(r*5),r*2])])\n",
    "\tsupportDesk = DIFFERENCE([supportDesk,diffSupport])\n",
    "\n",
    "\t\n",
    "\tbox = SKEL_1(BOX([1,2,3])(desk))\n",
    "\n",
    "\tdesk = (COLOR(Color4f([220/255., 165/255., 116/255.,1])))(desk)\n",
    "\tlegs = (COLOR(Color4f([0/255., 0/255., 0/255.,1])))(legs)\n",
    "\tsupportDesk = (COLOR(Color4f([0/255., 0/255., 0/255.,1])))(supportDesk)\n",
    "\tdesk = STRUCT([legs,desk,supportDesk])\n",
    "\treturn desk"
   ]
  },
  {
   "cell_type": "markdown",
   "metadata": {},
   "source": [
    "### Desk 01"
   ]
  },
  {
   "cell_type": "markdown",
   "metadata": {},
   "source": [
    "Input: `create_desk(2,1,1)`"
   ]
  },
  {
   "cell_type": "markdown",
   "metadata": {},
   "source": [
    "<img src=\"images/desk01.jpeg\" width=\"300\" />"
   ]
  },
  {
   "cell_type": "markdown",
   "metadata": {},
   "source": [
    "### Desk 02"
   ]
  },
  {
   "cell_type": "markdown",
   "metadata": {},
   "source": [
    "Input: `create_desk(1,1,1)`"
   ]
  },
  {
   "cell_type": "markdown",
   "metadata": {},
   "source": [
    "<img src=\"images/desk02.jpeg\" width=\"300\" />"
   ]
  },
  {
   "cell_type": "markdown",
   "metadata": {},
   "source": [
    "## Chair"
   ]
  },
  {
   "cell_type": "code",
   "execution_count": null,
   "metadata": {
    "collapsed": true
   },
   "outputs": [],
   "source": [
    "def create_chair(dx,dy,dz):\n",
    "\"\"\"\n",
    "Function that create a chair for a classroom\n",
    "@param dx: dimension x of the chair\n",
    "@param dy: dimension y of the chair\n",
    "@param dz: dimension z of the chair\n",
    "\n",
    "\"\"\"\n",
    "\tr = .05\n",
    "\tthickness = r/2.\n",
    "\n",
    "\ts = SPHERE(r)([30,30])\n",
    "\ts = JOIN(SKEL_1(s))\n",
    "\n",
    "\tseat = STRUCT([T([1,2,3])([r,r,(dz/2.)-r]),CUBOID([dx-(r*2),dy-(r*2),thickness])])\n",
    "\tback = STRUCT([T([1,2,3])([r,r*3,((dz/2.)+(dz/4.))]), CUBOID([dx-(r*2),thickness,(dz/4.)]) ])\n",
    "\n",
    "\tseat = (COLOR(Color4f([220/255., 165/255., 116/255.,1])))(seat)\n",
    "\tback = (COLOR(Color4f([220/255., 165/255., 116/255.,1])))(back)\n",
    "\n",
    "\tleg1 = STRUCT([CYLINDER([r,dz/2.])(30),T(3)(dz/2.),s])\n",
    "\tleg2 = CYLINDER([r,(dz/2.)-r])(30)\n",
    "\n",
    "\tlegBack = STRUCT([T([1,2])([r*2,r*2]),leg2, T(3)((dz/2.)-thickness),leg1])\n",
    "\tlegFront = STRUCT([T([1,2])([r*2,r*2]),leg2])\n",
    "\t\n",
    "\tlegBack = (COLOR(Color4f([96/255., 96/255., 96/255.,1])))(legBack)\n",
    "\tlegFront = (COLOR(Color4f([96/255., 96/255., 96/255.,1])))(legFront)\n",
    "\t\n",
    "\txlegs = STRUCT([legBack, T(1)(dx-(r*4)),legBack])\t\n",
    "\tylegs = STRUCT([T(2)(dy-(r*4)),legFront, T(1)(dx-(r*4)), legFront])\n",
    "\n",
    "\tchair = STRUCT([xlegs,ylegs,seat, back])\n",
    "\tbox = SKEL_1(BOX([1,2,3])(chair))\n",
    "\n",
    "\treturn chair\n",
    "\t"
   ]
  },
  {
   "cell_type": "markdown",
   "metadata": {},
   "source": [
    "### Chair 01"
   ]
  },
  {
   "cell_type": "markdown",
   "metadata": {},
   "source": [
    "Input: `create_chair(1.2,1.2,2)`"
   ]
  },
  {
   "cell_type": "markdown",
   "metadata": {},
   "source": [
    "<img src=\"images/chair01.jpeg\" width=\"300\" />"
   ]
  },
  {
   "cell_type": "markdown",
   "metadata": {},
   "source": [
    "### Chair 02"
   ]
  },
  {
   "cell_type": "markdown",
   "metadata": {},
   "source": [
    "Input: `create_chair(2,1,1)`"
   ]
  },
  {
   "cell_type": "markdown",
   "metadata": {},
   "source": [
    "<img src=\"images/chair02.jpeg\" width=\"300\" />"
   ]
  },
  {
   "cell_type": "markdown",
   "metadata": {},
   "source": [
    "## Closet"
   ]
  },
  {
   "cell_type": "code",
   "execution_count": null,
   "metadata": {
    "collapsed": true
   },
   "outputs": [],
   "source": [
    "def create_closet(dx,dy,dz):\n",
    "\"\"\"\n",
    "Function that create a closet for a classroom\n",
    "@param dx: dimension x of the closet\n",
    "@param dy: dimension y of the closet\n",
    "@param dz: dimension z of the closet\n",
    "\n",
    "\"\"\"\n",
    "\tthickness = 0.05\n",
    "\tc = CUBOID([dx,dy,dz])\n",
    "\tdoor1 = STRUCT([T([1,2,3])([thickness,dy,thickness]),CUBOID([(dx/2.)-(thickness*2),thickness,dz-(thickness*2)])])\n",
    "\tdoor2 = STRUCT([T([1,2,3])([(dx/2.)+(thickness),dy,thickness]),CUBOID([(dx/2.)-(thickness*2),thickness,dz-(thickness*2)])])\n",
    "\n",
    "\tc = (COLOR(Color4f([153/255., 76/255., 0/255.,1])))(c)\n",
    "\tdoor1 = (COLOR(Color4f([80/255., 25/255., 0/255.,1])))(door1)\n",
    "\tdoor2 = (COLOR(Color4f([80/255., 25/255., 0/255.,1])))(door2)\n",
    "\n",
    "\tknob = SPHERE(thickness)([30,30])\n",
    "\tknob = JOIN(SKEL_1(knob))\n",
    "\tknobs = STRUCT([T([1,2,3])([(dx/2.)-(thickness*2),dy+thickness,dz/2.]),knob,T(1)(thickness*4),knob])\n",
    "\n",
    "\tknobs = (COLOR(Color4f([80/255., 25/255., 0/255.,1])))(knobs)\n",
    "\n",
    "\tcloset = STRUCT([c, door1,door2,knobs])\n",
    "\n",
    "\tbox = SKEL_1(BOX([1,2,3])(closet))\n",
    "\n",
    "\treturn closet"
   ]
  },
  {
   "cell_type": "markdown",
   "metadata": {},
   "source": [
    "### Closet 01"
   ]
  },
  {
   "cell_type": "markdown",
   "metadata": {},
   "source": [
    "Input: `create_closet(2,1,3)`"
   ]
  },
  {
   "cell_type": "markdown",
   "metadata": {},
   "source": [
    "<img src=\"images/closet01.jpeg\" width=\"300\" />"
   ]
  },
  {
   "cell_type": "markdown",
   "metadata": {},
   "source": [
    "### Closet 02"
   ]
  },
  {
   "cell_type": "markdown",
   "metadata": {},
   "source": [
    "Input: `create_closet(1,1,2)`"
   ]
  },
  {
   "cell_type": "markdown",
   "metadata": {},
   "source": [
    "<img src=\"images/closet02.jpeg\" width=\"300\" />"
   ]
  },
  {
   "cell_type": "markdown",
   "metadata": {},
   "source": [
    "## Professor's desk"
   ]
  },
  {
   "cell_type": "code",
   "execution_count": null,
   "metadata": {
    "collapsed": true
   },
   "outputs": [],
   "source": [
    "def create_prof_desk(dx,dy,dz):\n",
    "\"\"\"\n",
    "Function that create a desk for the professor for a classroom\n",
    "@param dx: dimension x of the desk\n",
    "@param dy: dimension y of the desk\n",
    "@param dz: dimension z of the desk\n",
    "\n",
    "\"\"\"\n",
    "\tr = dy/25.\n",
    "\tdesk = STRUCT([T(3)(dz),CUBOID([dx,dy,.1])])\n",
    "\tleg = STRUCT([T([1,2])([r*2,r*2]),CYLINDER([r,dz])(30)])\n",
    "\txlegs = STRUCT([leg, T(1)(dx-(r*4)),leg])\n",
    "\tlegs = STRUCT([xlegs, T(2)(dy-(r*4)), xlegs])\n",
    "\n",
    "\tsupportDesk = STRUCT([T([1,2,3])([r*1.5,r*1.5,dz-(r*2)]),CUBOID([dx-(r*3),dy-(r*3),r*2])])\n",
    "\tdiffSupport = STRUCT([T([1,2,3])([r*2.5,r*2.5,dz-(r*2)]),CUBOID([dx-(r*5),dy-(r*5),r*2])])\n",
    "\tsupportDesk = DIFFERENCE([supportDesk,diffSupport])\n",
    "\n",
    "\tdrawer = STRUCT([T([1,2,3])([r*4,r*2,dz-(dz/4.)]),CUBOID([dx/3.,dy/2.,dz/4.])])\n",
    "\tknob = STRUCT([T([1,2,3])([dx/4.,r,dz-(dz/6.)]),SPHERE(r)([30,30])])\n",
    "\tknob = JOIN(SKEL_1(knob))\n",
    "\n",
    "\tborder1 = STRUCT([T([2,3])([dy-r,dz/3.]),CUBOID([dx,r,dz/2.])])\n",
    "\tborder2 = STRUCT([T(3)(dz/3.),CUBOID([r,dy,dz/2.])])\n",
    "\tborder3 = STRUCT([T([1,3])([dx-r,dz/3.]),CUBOID([r,dy,dz/2.])])\n",
    "\n",
    "\tborder1 = (COLOR(Color4f([225/255., 161/255., 106/255.,1])))(border1)\n",
    "\tborder2 = (COLOR(Color4f([225/255., 161/255., 106/255.,1])))(border2)\n",
    "\tborder3 = (COLOR(Color4f([225/255., 161/255., 106/255.,1])))(border3)\n",
    "\n",
    "\n",
    "\n",
    "\tborders = STRUCT([border1,border2,border3])\n",
    "\n",
    "\tsupportDesk = (COLOR(Color4f([0/255., 0/255., 0/255.,1])))(supportDesk)\n",
    "\tlegs = (COLOR(Color4f([0/255., 0/255., 0/255.,1])))(legs)\n",
    "\tknob = (COLOR(Color4f([0/255., 0/255., 0/255.,1])))(knob)\n",
    "\tdesk = (COLOR(Color4f([51/255., 255/255., 153/255.,1])))(desk)\n",
    "\tdrawer = (COLOR(Color4f([225/255., 161/255., 106/255.,1])))(drawer)\n",
    "\n",
    "\tdesk = STRUCT([legs,desk,supportDesk,drawer,knob,borders])\n",
    "\n",
    "\treturn desk"
   ]
  },
  {
   "cell_type": "markdown",
   "metadata": {},
   "source": [
    "### Prof's desk 01"
   ]
  },
  {
   "cell_type": "markdown",
   "metadata": {},
   "source": [
    "Input: `create_prof_desk(2,1,1.5)`"
   ]
  },
  {
   "cell_type": "markdown",
   "metadata": {},
   "source": [
    "<img src=\"images/prof_desk01.jpeg\" width=\"300\" />"
   ]
  },
  {
   "cell_type": "markdown",
   "metadata": {},
   "source": [
    "### Prof's desk 01"
   ]
  },
  {
   "cell_type": "markdown",
   "metadata": {},
   "source": [
    "Input: `create_prof_desk(3,1,2)`"
   ]
  },
  {
   "cell_type": "markdown",
   "metadata": {},
   "source": [
    "<img src=\"images/prof_desk02.jpeg\" width=\"300\" />"
   ]
  },
  {
   "cell_type": "markdown",
   "metadata": {},
   "source": [
    "## Room"
   ]
  },
  {
   "cell_type": "code",
   "execution_count": null,
   "metadata": {
    "collapsed": true
   },
   "outputs": [],
   "source": [
    "def ggpl_main():\n",
    "\n",
    "\tdeskChair = STRUCT([T([2])([3]),create_desk(2,1,1),T([1,2])([1.3,1.4]),R([1,2])(PI)(create_chair(1,1,1.7))])\n",
    "\n",
    "\tdesk = STRUCT([deskChair, T(1)(3), deskChair])\n",
    "\tdesks = STRUCT([desk, T([2])([2]),desk, T([2])([2]),desk])\n",
    "\tprofDesk = STRUCT([T([1,2])([1.1,0.9]),create_prof_desk(2,1,1.5)])\n",
    "\tchair1 = STRUCT([T(1)(2),create_chair(1,1,1.7)])\n",
    "\tcloset = STRUCT([T([1,2])([7,4]),R([1,2])(PI/2)(create_closet(2,1,3))])\n",
    "\n",
    "\troom = SKEL_1(CUBOID([7,10,3]))\n",
    "\n",
    "\tclassroom = STRUCT([profDesk,chair1,desks,closet,room])\n",
    "\n",
    "\treturn classroom\n",
    "\n",
    "VIEW(ggpl_main())"
   ]
  },
  {
   "cell_type": "markdown",
   "metadata": {},
   "source": [
    "<img src=\"images/room01.jpeg\" width=\"500\" />\n",
    "<img src=\"images/room02.jpeg\" width=\"300\" />"
   ]
  }
 ],
 "metadata": {
  "anaconda-cloud": {},
  "kernelspec": {
   "display_name": "Python [default]",
   "language": "python",
   "name": "python2"
  },
  "language_info": {
   "codemirror_mode": {
    "name": "ipython",
    "version": 2
   },
   "file_extension": ".py",
   "mimetype": "text/x-python",
   "name": "python",
   "nbconvert_exporter": "python",
   "pygments_lexer": "ipython2",
   "version": "2.7.12"
  }
 },
 "nbformat": 4,
 "nbformat_minor": 1
}
