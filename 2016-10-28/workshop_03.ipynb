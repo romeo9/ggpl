{
 "cells": [
  {
   "cell_type": "markdown",
   "metadata": {
    "collapsed": true
   },
   "source": [
    "# Workshop_03"
   ]
  },
  {
   "cell_type": "markdown",
   "metadata": {},
   "source": [
    "<img src=\"http://www.uniqueinnovations.com.au/images/product/designer-stairs/designer-stairs-2.jpg\" width='400'/>"
   ]
  },
  {
   "cell_type": "markdown",
   "metadata": {},
   "source": [
    "## Details"
   ]
  },
  {
   "cell_type": "markdown",
   "metadata": {},
   "source": [
    "<li> Support function: create a stairs from given params\n",
    "<li> Main function: we gave dimensions of an ideal box, in what we have to insert the stairs built in paramethrical way thanks to support function"
   ]
  },
  {
   "cell_type": "markdown",
   "metadata": {},
   "source": [
    "## Code"
   ]
  },
  {
   "cell_type": "markdown",
   "metadata": {},
   "source": [
    "### Main function"
   ]
  },
  {
   "cell_type": "code",
   "execution_count": null,
   "metadata": {
    "collapsed": true
   },
   "outputs": [],
   "source": [
    "#---------start function--------------------------------------------------\n",
    "def ggpl_straight_stairs(dx, dy, dz):\n",
    "\t\"\"\"\n",
    "\tfunction that take in input three dimensions of an example box. According to these params\n",
    "\tthis function build a structure with a skeleton of the box and inside\n",
    "\t\"\"\"\n",
    "\tdy=dy*2\n",
    "\tdz=dz/2\n",
    "\n",
    "\tyStep = 1\t#dimension of single step\n",
    "\txStep = dx \t#dimension of single step, if you want to make this param editable, you can make xStep=dx\n",
    "\t\n",
    "\tnStep = int(dy/yStep)\n",
    "\tzStep = (float(dz)/float(nStep))\n",
    "\n",
    "\n",
    "\tstairs = create_straight_stairs(xStep, yStep, zStep, nStep)\n",
    "\t\n",
    "\tbox = SKEL_1(BOX([1,2,3])(stairs))\n",
    "\n",
    "\tVIEW(STRUCT([stairs, box]))\n",
    "\n",
    "#---------end function--------------------------------------------------"
   ]
  },
  {
   "cell_type": "markdown",
   "metadata": {},
   "source": [
    "### Support function"
   ]
  },
  {
   "cell_type": "code",
   "execution_count": null,
   "metadata": {
    "collapsed": true
   },
   "outputs": [],
   "source": [
    "#---------start function--------------------------------------------------\n",
    "def create_straight_stairs(width, tread, riser, nStep):\n",
    "\t\"\"\"\n",
    "\tfunction that creates a stairs according to given parameters.\n",
    "\t@param width: horizontal length of single step\n",
    "\t@param tread: distance between single step\n",
    "\t@param riser: distance of height of single step\n",
    "\t\"\"\"\n",
    "\t\n",
    "\txStep = MKPOL([[[tread, 0],[tread, riser*2], [tread*2, riser*2], [tread*2, riser]], [[1,2,3,4]], None])\n",
    "\tstep = PROD([QUOTE([width]), xStep])\n",
    "\n",
    "\n",
    "\tfirstStep = CUBOID([width,tread,riser])\n",
    "\n",
    "\tstairsList=[]\n",
    "\tstairsList.append(firstStep)\n",
    "\n",
    "\ttempy = 0\n",
    "\ttempz = 0\n",
    "\tfor i in range(nStep-1):\n",
    "\t\ttrasl = STRUCT([T(2)(tempy),T(3)(tempz), step]) #every step there is a traslation\n",
    "\t\tstairsList.append(trasl)\n",
    "\t\ttempy = tread+tempy\n",
    "\t\ttempz = riser+tempz\n",
    "\n",
    "\treturn STRUCT(stairsList)\n",
    "#---------end function--------------------------------------------------"
   ]
  },
  {
   "cell_type": "markdown",
   "metadata": {},
   "source": [
    "## Examples"
   ]
  },
  {
   "cell_type": "markdown",
   "metadata": {},
   "source": [
    "### First example"
   ]
  },
  {
   "cell_type": "markdown",
   "metadata": {},
   "source": [
    "<img src=\"img01.jpeg\" width='400'/>"
   ]
  },
  {
   "cell_type": "markdown",
   "metadata": {},
   "source": [
    "<li> Called function: \n",
    "`ggpl_straight_stairs(10,3,10)`"
   ]
  },
  {
   "cell_type": "markdown",
   "metadata": {},
   "source": [
    "### Second example"
   ]
  },
  {
   "cell_type": "markdown",
   "metadata": {},
   "source": [
    "<img src=\"img02.jpeg\" width='400'/>"
   ]
  },
  {
   "cell_type": "markdown",
   "metadata": {},
   "source": [
    "<li> Called function: \n",
    "`ggpl_straight_stairs(10,8,10)`"
   ]
  },
  {
   "cell_type": "markdown",
   "metadata": {},
   "source": [
    "### Third example"
   ]
  },
  {
   "cell_type": "markdown",
   "metadata": {},
   "source": [
    "<img src=\"img03.jpeg\" width='400'/>"
   ]
  },
  {
   "cell_type": "markdown",
   "metadata": {},
   "source": [
    "<li> Called function: \n",
    "`ggpl_straight_stairs(10,16,20)`"
   ]
  },
  {
   "cell_type": "markdown",
   "metadata": {},
   "source": [
    "### Fourth example"
   ]
  },
  {
   "cell_type": "markdown",
   "metadata": {},
   "source": [
    "<img src=\"img04.jpeg\" width='400'/>"
   ]
  },
  {
   "cell_type": "markdown",
   "metadata": {},
   "source": [
    "<li> Called function: \n",
    "`ggpl_straight_stairs(5,16,20)`"
   ]
  }
 ],
 "metadata": {
  "anaconda-cloud": {},
  "kernelspec": {
   "display_name": "Python [default]",
   "language": "python",
   "name": "python2"
  },
  "language_info": {
   "codemirror_mode": {
    "name": "ipython",
    "version": 2
   },
   "file_extension": ".py",
   "mimetype": "text/x-python",
   "name": "python",
   "nbconvert_exporter": "python",
   "pygments_lexer": "ipython2",
   "version": "2.7.12"
  }
 },
 "nbformat": 4,
 "nbformat_minor": 1
}
