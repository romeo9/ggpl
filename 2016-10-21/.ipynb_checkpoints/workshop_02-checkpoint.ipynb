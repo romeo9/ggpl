{
 "cells": [
  {
   "cell_type": "markdown",
   "metadata": {
    "collapsed": true
   },
   "source": [
    "# Workshop 02"
   ]
  },
  {
   "cell_type": "markdown",
   "metadata": {},
   "source": [
    "<img src=\"http://www.mailingmaggioli.it/promo/tecnici/2010/12/ca1.gif\" />"
   ]
  },
  {
   "cell_type": "markdown",
   "metadata": {},
   "source": [
    "## Details\n",
    "The file workshop_02.py includes functions that takes in input a `.csv` file and builds a **3d** plane frame"
   ]
  },
  {
   "cell_type": "markdown",
   "metadata": {},
   "source": [
    "#### `.csv` file has the following structure"
   ]
  },
  {
   "cell_type": "markdown",
   "metadata": {},
   "source": [
    "```\n",
    "3;0;0\n",
    "-2,-2,-2;-1,-2;0.2;0.2\n",
    "3;0;0\n",
    "-2,-2,-2;-1,-2;0.2;0.2\n",
    "3;0;0\n",
    "-2,-2,-2;-1,-2;0.2;0.2\n",
    "3;0;0\n",
    "-2,-2,-2;-1,-2;0.2;0.2\n",
    "```"
   ]
  },
  {
   "cell_type": "markdown",
   "metadata": {},
   "source": [
    "In this file there are two kind of line:\n",
    "<li> Odd rows have vector coordinates to the base corner of the next frame.\n",
    "<li> Equal row have paramethers for single frame"
   ]
  },
  {
   "cell_type": "markdown",
   "metadata": {},
   "source": [
    "# Code"
   ]
  },
  {
   "cell_type": "markdown",
   "metadata": {},
   "source": [
    "## Main function \n",
    "#### `ggpl_bone_structure(file_name)`"
   ]
  },
  {
   "cell_type": "code",
   "execution_count": null,
   "metadata": {
    "collapsed": true
   },
   "outputs": [],
   "source": [
    "#start function ------------------------------------------------------------\n",
    "def ggpl_bone_structure(file_name):\n",
    "\t\"\"\"\n",
    "\tggpl_bone_structure takes in input the name of file .csv from what it had to take datas to\n",
    "\tcreate single frame structure. \n",
    "\t@param file_name: name of csv file \n",
    "\t\"\"\"\n",
    "\n",
    "\tfile = open(file_name, 'rb')\n",
    "\treader = csv.reader(file, delimiter = ';')\n",
    "\n",
    "\tinputList = list(reader)\n",
    "\n",
    "\tdistanceRow = []\n",
    "\tframeRow = []\n",
    "\t\n",
    "\tdistanceRow.append(inputList[::2]) #list of distance between frames. distanceRow takes equal row of file\n",
    "\tframeRow.append(inputList[1::2])\t#Odds row of file. frameRow is a list of value to pass at the plane_frame function\n",
    "\tframeList = frameRow\n",
    "\t\n",
    "\tframeSolid = [] #list of the hpc frame values\n",
    "\n",
    "\n",
    "\tfor item in frameList:\n",
    "\t\ttemp=[]\n",
    "\t\tfor j in item:\n",
    "\t\t\tdistanceList = [float(i) for i in j[0].split(',')]\t\t#convert list string to list of float\n",
    "\t\t\tinterstoryHeight = [float(i) for i in j[1].split(',')]\n",
    "\t\t\twidthPill = float(j[2])\n",
    "\t\t\twidthBeam = float(j[3])\n",
    "\t\t\t\n",
    "\t\t\tnewFrame = plane_frame(distanceList, interstoryHeight, widthPill, widthBeam) #create the single frame\n",
    "\t\t\tframeSolid.append(newFrame)\n",
    "\t\n",
    "\t\n",
    "\toutput=[]\n",
    "\txdist = 0\n",
    "\tydist = 0 \n",
    "\tzdist = 0\n",
    "\tdata=[]\n",
    "\n",
    "\tfor i in frameSolid:\n",
    "\t\tfor d in distanceRow:\n",
    "\t\t\txdist = xdist + float(d[0][0])\n",
    "\t\t\tydist = ydist + float(d[0][1])\n",
    "\t\t\tzdist = zdist + float(d[0][2])\n",
    "\t\t\tframeElement = STRUCT([T(1)(xdist), T(2)(ydist), T(3)(zdist), i]) #translation of single frame according to csv file\n",
    "\t\t\toutput.append(frameElement)\n",
    "\t\t\t\t\n",
    "\t#generate beams\t\t\t\n",
    "\tbeams=(generate_beams(distanceRow, widthBeam, interstoryHeight, distanceList))\n",
    "\n",
    "\t#adding beams to list\n",
    "\toutput.extend(beams)\n",
    "\t\n",
    "\t#display all structure\n",
    "\tVIEW(STRUCT(output))\t\n",
    "\n",
    "#end function ------------------------------------------------------------\t\n"
   ]
  },
  {
   "cell_type": "markdown",
   "metadata": {},
   "source": [
    "### Support functions"
   ]
  },
  {
   "cell_type": "markdown",
   "metadata": {},
   "source": [
    "`ggpl_bone_structure`, call first `plane_frame` then `generate_beams` and final make the two parts together.\n",
    "Below there are:\n",
    "<li> `generate_beams` create beams according to paramether given by .csv file\n",
    "<li> `plane_frame` define the single frame with params given by .csv file. NB: Equal rows number of .csv file, define number of frame to create, and every row main function call `plane_frame`"
   ]
  },
  {
   "cell_type": "code",
   "execution_count": null,
   "metadata": {
    "collapsed": true
   },
   "outputs": [],
   "source": [
    "from pyplasm import*\n",
    "import csv\n",
    "from ast import literal_eval as make_number\n",
    "\n",
    "\n",
    "\n",
    "\n",
    "\n",
    "\n",
    "#start function ------------------------------------------------------------\n",
    "def generate_beams(distanceRow, widthBeam, interstoryHeight, distanceList):\n",
    "\t\"\"\"\n",
    "\tgenerate_beams takes in input some same values of the function plane_frame, in order to generate some beams\n",
    "\tthat satisfy the complete final structure.  \n",
    "\t@param distanceRow: list of distance between frames. distanceRow takes equal row of file\n",
    "\t@param widthBeam: width beam, given by .csv file \n",
    "\t@param interstoryHeight: distance between different floor, given by .csv file\n",
    "\t@param distanceList: list of distance between pillars of a single frame, given by .csv file\n",
    "\t\"\"\"\n",
    "\t\n",
    "\tdistance=[]\n",
    "\tdistanceRow=distanceRow[0]\n",
    "\tfor item in distanceRow:\n",
    "\t\ttemp=[]\n",
    "\t\tfor j in item:\n",
    "\t\t\ttemp.append(float(j))\n",
    "\t\tdistance.append(temp)\n",
    "\t\n",
    "\n",
    "\tlengthBeam=0\n",
    "\tfor i in distance:\n",
    "\t\tfor j in i:\n",
    "\t\t\tlengthBeam += j\n",
    "\n",
    "\tlengthBeam = lengthBeam - distance[len(distance)-1][0]\n",
    "\n",
    "\txBeam = [-(distance[len(distance)-1][0]), lengthBeam]\n",
    "\n",
    "\txBeam = QUOTE(xBeam)\n",
    "\n",
    "\tbeamDistance=[]\n",
    "\tfor i in distanceList:\n",
    "\t\tbeamDistance.append(widthBeam)\n",
    "\t\tbeamDistance.append(i)\n",
    "\tbeamDistance.append(widthBeam)\n",
    "\t\n",
    "\tyBeam = QUOTE(beamDistance)\n",
    "\n",
    "\txyBeam = INSR(PROD)([xBeam, yBeam])\n",
    "\n",
    "\n",
    "\thBeam = []\n",
    "\tfor i in interstoryHeight:\n",
    "\t\thBeam.append(i)\n",
    "\t\thBeam.append(widthBeam)\n",
    "\n",
    "\n",
    "\tbeamList=[]\n",
    "\ttemp = INSR(PROD)([xyBeam, QUOTE(hBeam)])\n",
    "\tbeamList.append(temp)\n",
    "\n",
    "\treturn beamList\n",
    "\n",
    "#end function ------------------------------------------------------------\t\n",
    "\n",
    "\n",
    "\t\n",
    "\n",
    "#start function ------------------------------------------------------------\n",
    "def plane_frame(distanceList, interstoryHeight, widthPill, widthBeam):\n",
    "\t\"\"\"\n",
    "\t@param distanceList: list of distance between the pillars. \n",
    "\t@param interstoryHeight: list of distance between the floor.\n",
    "\t@param widthPill: is the width of a pillar. All pillars have same width.\n",
    "\t@param widthBeam: width of the beam.\n",
    "\tIn this function we consider that widthPill = widthBeam, because of the stability of the frame.\n",
    "\t\n",
    "\t\"\"\"\n",
    "\t\n",
    "\tnumBeam = len(interstoryHeight) #number of beam\n",
    "\tpillarsList = [widthPill] #create a new list of pillars and distance between them. First element is the first pillar.\n",
    "\n",
    "\t#creation of pillars' list\n",
    "\tfor item in distanceList:\n",
    "\t\tpillarsList.append(item)\n",
    "\t\tpillarsList.append(widthPill)\n",
    "\n",
    "\n",
    "\tbeamList = [] #create an empty beams' list\n",
    "\n",
    "\t#inserting element inside beams' list\n",
    "\tfor item in interstoryHeight:\n",
    "\t\tbeamList.append(item)\n",
    "\t\tbeamList.append(widthBeam)\n",
    "\n",
    "\t#number of pillars it's like number of distance - 1\n",
    "\tnumPill = len(distanceList)+1\n",
    "\t\n",
    "\t#create a list with the pillars' heights that are negative instead of interstory height\n",
    "\thPillList = [(-i) for i in beamList]\n",
    "\n",
    "\t#x axis of pillars\n",
    "\txPillar = QUOTE(pillarsList)\n",
    "\t#y axis of pillars\n",
    "\tyPillar = QUOTE([widthPill, -4])\n",
    "\t#2D pillars\n",
    "\txyPillar = PROD([yPillar, xPillar])\n",
    "\t#3D pillars\n",
    "\tpillar = PROD([xyPillar, QUOTE(hPillList)])\n",
    "\n",
    "\t#need sum of distance between pillars to calculate lenght of beam\n",
    "\tsumdistancepill = sum([abs(i) for i in distanceList])\n",
    "\n",
    "\t#x axis of beam\n",
    "\txBeam = QUOTE([(widthPill*numPill)+sumdistancepill])\n",
    "\t#y axis of beam\n",
    "\tyBeam = QUOTE([widthBeam])\n",
    "\t#2D beam\n",
    "\txyBeam = PROD([yBeam, xBeam])\n",
    "\t#3D beam\n",
    "\tbeam = PROD([xyBeam, QUOTE(beamList)]) \n",
    "\n",
    "\ts = STRUCT([pillar, beam])\n",
    "\n",
    "\treturn s\n",
    "\n",
    "#end function---------------------------------------------------------------------\n",
    "\n",
    "ggpl_bone_structure(\"frame_data_461963.csv\")\n"
   ]
  },
  {
   "cell_type": "markdown",
   "metadata": {},
   "source": [
    "## Examples"
   ]
  },
  {
   "cell_type": "markdown",
   "metadata": {},
   "source": [
    "Below there is an image example of what is the first step according to build this kind of structure. \n"
   ]
  },
  {
   "cell_type": "markdown",
   "metadata": {},
   "source": [
    "Here there are many frames, each one next each other, like params of distances says in .csv file.\n",
    "\n",
    "\n",
    "<img src=\"images/img01.jpeg\" style=\"width: 400px;\" />"
   ]
  },
  {
   "cell_type": "markdown",
   "metadata": {},
   "source": [
    "Calling the entire function, we could see the image below"
   ]
  },
  {
   "cell_type": "markdown",
   "metadata": {},
   "source": [
    "<img src=\"images/img02.jpeg\" style=\"width: 400px;\" />\n"
   ]
  }
 ],
 "metadata": {
  "anaconda-cloud": {},
  "kernelspec": {
   "display_name": "Python [default]",
   "language": "python",
   "name": "python2"
  },
  "language_info": {
   "codemirror_mode": {
    "name": "ipython",
    "version": 2
   },
   "file_extension": ".py",
   "mimetype": "text/x-python",
   "name": "python",
   "nbconvert_exporter": "python",
   "pygments_lexer": "ipython2",
   "version": "2.7.12"
  }
 },
 "nbformat": 4,
 "nbformat_minor": 1
}
